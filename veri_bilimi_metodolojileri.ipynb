{
 "cells": [
  {
   "cell_type": "markdown",
   "metadata": {},
   "source": [
    "## Veri Gereksinimleri\n",
    "\n",
    "Belirli bir tarifin veya yemeğin ait olduğu mutfağı belirleme sürecini otomatikleştirmek istiyoruz ve tarifin veya yemeğin bileşenlerini kullanarak potansiyel olarak bunun mümkün olabileceğini belirledik. Bir model oluşturabilmek için, farklı mutfaklar ve tariflerle ilgili kapsamlı verilere ihtiyacımız var.\n",
    "\n",
    "\n",
    "## Veri Toplama\n",
    "\n",
    "Bu aşamada veri bilimciler mevcut veri kaynaklarını belirler ve toplar. Biz Veri Bilimi Metodolojisinin uygulanmasına odaklanacağımız için kullanacağımız verileri hazır olarak alacağız. Bu uygulama için Yong-Yeol Ahn adlı bir araştırmacı, üç farklı web sitesinden on binlerce yemek tarifini (mutfaklar ve malzemeler) topladı.\n",
    "\n",
    "* www.allrecipes.com\n",
    "* www.epicurious.com\n",
    "* www.menupan.com\n",
    "\n",
    "Bu sayede bizim iş anlayışı aşamasında tanımlanan hedefe ulaşmak için ihtiyaç duyduğumuz veriler hazır olduğu için, herhangi bir veri toplama işlemi gerçekleştirmemize gerek kalmayacak. Şu adresten verileri çalışma klasörünüze yani bu dosyanın kayıtlı olduğu klasör içine indirebilirsiniz: https://obenseven.com.tr/recipes.csv\n"
   ]
  },
  {
   "cell_type": "markdown",
   "metadata": {},
   "source": [
    "Şimdi Pyhon kodu içinden veriyi okuyalım;"
   ]
  },
  {
   "cell_type": "code",
   "execution_count": 39,
   "metadata": {},
   "outputs": [],
   "source": [
    "import pandas as pd # verileri panda kütüphanesi ile okuyacağız\n",
    "pd.set_option('display.max_columns', None)\n",
    "\n",
    "tarifler = pd.read_csv(\"recipes.csv\")"
   ]
  },
  {
   "cell_type": "markdown",
   "metadata": {},
   "source": [
    "Verilerin başarıyla indirilip, kullanılmak üzere hazır olduğunu teyit etmek için ilk bir kaç veri satırını görüntüleyelim;"
   ]
  },
  {
   "cell_type": "code",
   "execution_count": null,
   "metadata": {},
   "outputs": [],
   "source": [
    "tarifler.head()"
   ]
  },
  {
   "cell_type": "markdown",
   "metadata": {},
   "source": [
    "Elimizde ne kadar veri olduğunu görelim;"
   ]
  },
  {
   "cell_type": "code",
   "execution_count": null,
   "metadata": {},
   "outputs": [],
   "source": [
    "tarifler.shape"
   ]
  },
  {
   "cell_type": "markdown",
   "metadata": {},
   "source": [
    "Veri setimiz 57.691 tariften oluşmaktadır. Her satır bir tarifi temsil eder ve her tarif için, ilgili mutfağın yanı sıra tarifte badem ile başlayıp kabak ile biten 384 malzemenin bulunup bulunmadığı belgelenir."
   ]
  },
  {
   "cell_type": "markdown",
   "metadata": {},
   "source": [
    "## Veriyi Anlama\n",
    "\n",
    "Veri anlama, veri setinin oluşturulmasıyla ilgili tüm faaliyetleri kapsar. Temel olarak, veri bilimi metodolojileri içinde yer alan veri anlama bölümü, “Topladığınız veriler çözülmesi gereken sorunu temsil ediyor mu?” sorusuna cevap verir.\n",
    "\n",
    "Verileri anlamak için modelde değişken olacak veri sütunlarında tanımlayıcı istatistiklerin hesaplanması gerekir. Bunlar ilk olarak; Hurst, Tek Değişken Analizi(Univariate Analysis) gibi istatistikler ile ortalama, medyan, minimum, maksimum ve standart sapma gibi her bir değişkene ilişkin istatistikleri içerir.\n",
    "\n",
    "İkinci olarak, belirli değişkenlerin ne kadar yakından ilişkili olduğunu ve varsa hangilerinin çok yüksek düzeyde ilişkili olduğunu görmek için ikili korelasyonlar(Pairwise Correlations) kullanılır. Ki bu sayede, bu değişkenlerin hangilerinin esasen gereksiz olacağını tespit etmemizi sağlayarak, modelleme için yalnızca hangisinin alakalı olduğunu ve kullanılacağını tespit etmemizi sağlar.\n",
    "\n",
    "Üçüncü olarak, dağılımlarını anlamak için değişkenlerin histogramları incelenir Histogramlar, değerlerin veya bir değişkenin dağılımını ve değişkeni modelde daha kullanışlı hale getirmek için ne tür bir veri hazırlığının gerekli olabileceğini anlamanın iyi bir yoludur. Örneğin, çok farklı değerleri olan bir kategorik değişkenin bir model içinde bilgi verebiliyor olması için histogram, bu değerlerin nasıl birleştirileceğine karar verilmesine yardımcı olur.\n",
    "\n",
    "Veri Bilimci problem ve verilerle ne kadar çok çalışırsa o kadar çok öğrenir, dolayısıyla model içinde yapılabilecek daha fazla iyileştirme keşfeder ve sonuçta probleme daha iyi bir çözüm üretir.\n",
    "\n",
    "Veriyi Anlama aşamasında yapılacak işlemler için gerekli kütüphaneleri ekleyerek kodlamaya başlayalım. Bu aşamada Pandas kütüphanesinin yanı sıra Numpy kütüphanesinden ve metinlerle çalıştığımız için Regular Expression(Regex) kütüphanesinden de yararlanacağız:"
   ]
  },
  {
   "cell_type": "code",
   "execution_count": 42,
   "metadata": {},
   "outputs": [],
   "source": [
    "import numpy as np # numpy kütüphanesini de dahil edelim\n",
    "import re # metinlerle çalışmak için regular expression kütüphanesini de ekleyelim"
   ]
  },
  {
   "cell_type": "markdown",
   "metadata": {},
   "source": [
    "Basitçe bir sushi tarifinde şu malzemelerin olduğunu biliyoruz;\n",
    "– Pirinç\n",
    "– Soya sosu\n",
    "– Wasabi\n",
    "– Balık ve sebzeler\n",
    "\n",
    "Bunların veri setimiz içinde olup olmadığını kontrol edelim;"
   ]
  },
  {
   "cell_type": "code",
   "execution_count": null,
   "metadata": {},
   "outputs": [],
   "source": [
    "icindekiler = list(tarifler.columns.values)\n",
    "\n",
    "print([match.group(0) for malzeme in icindekiler for match in [(re.compile(\".*(rice).*\")).search(malzeme)] if match])\n",
    "print([match.group(0) for malzeme in icindekiler for match in [(re.compile(\".*(wasabi).*\")).search(malzeme)] if match])\n",
    "print([match.group(0) for malzeme in icindekiler for match in [(re.compile(\".*(soy).*\")).search(malzeme)] if match])"
   ]
  },
  {
   "cell_type": "markdown",
   "metadata": {},
   "source": [
    "Gördüğünüz gibi malzemelerimiz mevcut. Öyleyse bir tarif eğer bu 3 malzemeyi de içeriyorsa o tarife büyük ihtimalle “Japon mutfağına ait bir tarifdir.” diyebiliriz. Dolayısıyla elimizdeki veri ile sorumuza cevap verebilecek bir yöntem bulduk diyebiliriz.\n",
    "\n",
    "## Veri Hazırlama\n",
    "\n",
    "Veri hazırlama, veriyi cevabını aradığımız soruya uygun hale getirmenin bir yoludur. Veri hazırlama aşamasında verilerin dönüştürülmesi, verilerin çalışılması daha kolay olabilecek bir duruma getirilmesi sürecidir. Diğer bir ifadeyle kusurlu olan ürünlerin elenmesi gibi düşünülebilir. Spesifik olarak, metodolojinin veri hazırlama aşamasında, verilerle etkili bir şekilde çalışabilmek ve her şeyin doğru biçimlendirildiğinden emin olmak için eksik veya geçersiz değerleri ele alarak, yinelenen verileri kaldıracak şekilde veri hazırlanmalıdır.\n",
    "\n",
    "İlk olarak verinin temizlenmeye ihtiyacı olup olmadığına bakalım;"
   ]
  },
  {
   "cell_type": "code",
   "execution_count": null,
   "metadata": {},
   "outputs": [],
   "source": [
    "tarifler[\"country\"].value_counts()"
   ]
  },
  {
   "cell_type": "markdown",
   "metadata": {},
   "source": [
    "Daha yukarıda head() fonksiyonu ile sadece bir bölümünü verdiğimiz tablonun tamamını incelediğinizde şu çıkarımları yapabilirsiniz;\n",
    "– Mutfak sütunu Ülke olarak etiketlenmiş, onun yerine ülke mutfağı daha açıklayıcı olurdu.\n",
    "– Mutfak adları tutarlı değil çünkü hepsi büyük harfle başlamıyor.\n",
    "– Vietnam ve Vietnamca gibi bazı mutfaklar ülke adının varyasyonu olarak birden fazla karşımıza çıkıyor.\n",
    "– en son kodumuzda yer alan value_Counts() fonksiyonu ile gördük ki bazı mutfakların çok fazla bazılarının ise çok az tarifi vardır.\n",
    "\n",
    "Şimdi bu hataları düzeltelim.\n",
    "\n",
    "Öncelikle ülke(country) olarak verilmiş olan sütun adını Ülke Mutfağı olarak değiştirelim;"
   ]
  },
  {
   "cell_type": "code",
   "execution_count": null,
   "metadata": {},
   "outputs": [],
   "source": [
    "sutun_adi = tarifler.columns.values\n",
    "sutun_adi[0] = \"Ülke Mutfağı\"\n",
    "tarifler.columns = sutun_adi\n",
    "\n",
    "tarifler"
   ]
  },
  {
   "cell_type": "markdown",
   "metadata": {},
   "source": [
    "Tüm mutfak isimlerini küçük harf yapalım;"
   ]
  },
  {
   "cell_type": "code",
   "execution_count": 46,
   "metadata": {},
   "outputs": [],
   "source": [
    "tarifler[\"Ülke Mutfağı\"] = tarifler[\"Ülke Mutfağı\"].str.lower()"
   ]
  },
  {
   "cell_type": "markdown",
   "metadata": {},
   "source": [
    "Mutfak isimlerini daha anlamlı hale getirelim. Ayrıca vietnamese ve vietnam gibi tekrar eden aynı mutfakları Vietnam Mutfağı gibi aynı isim altında birleştirelim;"
   ]
  },
  {
   "cell_type": "code",
   "execution_count": null,
   "metadata": {},
   "outputs": [],
   "source": [
    "mutfaklar = {\n",
    "    'vietnamese': 'Vietnam Mutfağı',\n",
    "    'irish' : 'İrlanda Mutfağı',\n",
    "    'japanese' : 'Japon Mutfağı',\n",
    "    'indian': 'Hint Mutfağı',\n",
    "    'spanish_portuguese': 'İspanyol Mutfağı',\n",
    "    'jewish': 'İsrail Mutfağı',\n",
    "    'french': 'Fransız Mutfağı',\n",
    "    'central_southamerican': 'Güney Amerika Mutfağı',\n",
    "    'cajun_creole': 'Cajun&Creole Mutfağı',\n",
    "    'thai': 'Tayland Mutfağı',\n",
    "    'asian': 'Asya Mutfağı',\n",
    "    'east_asian': 'Doğu Asya Mutfağı',\n",
    "    'mexico': 'Meksika Mutfağı', \n",
    "    'scandinavian': 'İskandinav Mutfağı',\n",
    "    'greek': 'Yunan Mutfağı',\n",
    "    'american': 'Amerikan Mutfağı',\n",
    "    'african': 'Afrika Mutfağı',\n",
    "    'middleeastern': 'Orta Doğu Mutfağı',\n",
    "    'easterneuropean_russian': 'Doğu Avrupa-Rus Mutfağı',\n",
    "    'italian': 'İtalyan Mutfağı',\n",
    "    'mexican': 'Meksika Mutfağı',\n",
    "    'chinese': 'Çin Mutfağı',\n",
    "    'german': 'Alman Mutfağı',\n",
    "    'mediterranean': 'Akdeniz Mutfağı',\n",
    "    'moroccan': 'Fas Mutfağı',\n",
    "    'southern_soulfood': 'Afrika Kökenli Amerika Mutfağı',\n",
    "    'english_scottish': 'İngiliz Mutfağı',\n",
    "    'southwestern': 'Güneybatı Amerika Mutfağı',\n",
    "    'western': 'Batı Amerika Mutfağı',\n",
    "    'korean': 'Kore Mutfağı',\n",
    "    'caribbean': 'Karayip Mutfağı',\n",
    "    'eastern-europe': 'Doğu Avrupa Mutfağı',\n",
    "    'south-america': 'Güney Amerika Mutfağı',\n",
    "    'north-african': 'Kuzey Afrika Mutfağı',\n",
    "    'canada': 'Kanada Mutfağı',\n",
    "    'turkey': 'Türk Mutfağı',\n",
    "    'bangladesh': 'Bangladeş Mutfağı',\n",
    "    'india': 'Hint Mutfağı',\n",
    "    'france': 'Fransız Mutfağı',\n",
    "    'italy': 'İtalyan Mutfağı',\n",
    "    'spain': 'İspanyol Mutfağı',\n",
    "    'israel': 'İsrail Mutfağı',\n",
    "    'japan': 'Japon Mutfağı',\n",
    "    'korea': 'Kore Mutfağı',\n",
    "    'south-african': 'Güney Afrika Mutfağı',\n",
    "    'uk-and-ireland': 'İngiliz Mutfağı',\n",
    "    'china': 'Çin Mutfağı',\n",
    "    'belgium': 'Belçika Mutfağı',\n",
    "    'germany': 'Alman Mutfağı',\n",
    "    'switzerland': 'İsviçre Mutfağı',\n",
    "    'spain': 'İspanyol Mutfağı',\n",
    "    'portugal': 'Portekiz Mutfağı',\n",
    "    'iran': 'İran Mutfağı',\n",
    "    'pakistan': 'Pakistan Mutfağı',\n",
    "    'netherlands': 'Hollanda Mutfağı',\n",
    "    'scandinavia': 'İskandinav Mutfağı',\n",
    "    'philippines': 'Filipin Mutfağı',\n",
    "    'indonesia': 'Endonezya Mutfağı',\n",
    "    'east-african': 'Doğu Afrika Mutfağı',\n",
    "    'west-african': 'Batı Afrika Mutfağı',\n",
    "    'vietnam': 'Vietnam Mutfağı',\n",
    "    'thailand': 'Tayland Mutfağı',\n",
    "    'malaysia': 'Malezya Mutfağı',\n",
    "    'lebanon': 'Lübnan Mutfağı',\n",
    "    'austria': 'Avusturya Mutfağı'\n",
    "}\n",
    "\n",
    "for i, tarif in enumerate(tarifler['Ülke Mutfağı']):\n",
    "    if tarif in mutfaklar:\n",
    "        tarifler['Ülke Mutfağı'][i] = mutfaklar[tarif]"
   ]
  },
  {
   "cell_type": "markdown",
   "metadata": {},
   "source": [
    "Hatamız var mı, eksik mutfak ismi kalmış mı kontrol edelim;"
   ]
  },
  {
   "cell_type": "code",
   "execution_count": null,
   "metadata": {},
   "outputs": [],
   "source": [
    "print(tarifler['Ülke Mutfağı'].unique())"
   ]
  },
  {
   "cell_type": "code",
   "execution_count": null,
   "metadata": {},
   "outputs": [],
   "source": [
    "tarifler"
   ]
  },
  {
   "cell_type": "markdown",
   "metadata": {},
   "source": [
    "Tekrar eden sonuçlarımız var mı kontrol edelim;"
   ]
  },
  {
   "cell_type": "code",
   "execution_count": null,
   "metadata": {},
   "outputs": [],
   "source": [
    "tarifler_en_list = list(tarifler.columns)\n",
    "tekrar_edenler_en = [item for item in set(tarifler_en_list) if tarifler_en_list.count(item) > 1]\n",
    "print(tekrar_edenler_en)"
   ]
  },
  {
   "cell_type": "code",
   "execution_count": null,
   "metadata": {},
   "outputs": [],
   "source": [
    "# İngilizce sütun isimleri ve Türkçe karşılıkları içeren bir sözlük oluştur\n",
    "malzemeler_cevirisi = {\n",
    "    \"Ülke Mutfağı\": \"Ülke Mutfağı\",\n",
    "    'almond': 'badem',\n",
    "    'angelica': 'melek otu',\n",
    "    'anise': 'anason',\n",
    "    'anise_seed': 'anason tohumu',\n",
    "    'apple': 'elma',\n",
    "    'apple_brandy': 'elma rakısı',\n",
    "    'apricot': 'kayısı',\n",
    "    'armagnac': 'armanyak',\n",
    "    'artemisia': 'pelin otu',\n",
    "    'artichoke': 'enginar',\n",
    "    'asparagus': 'kuşkonmaz',\n",
    "    'avocado': 'avokado',\n",
    "    'bacon': 'domuz pastırması',\n",
    "    'baked_potato': 'fırında patates',\n",
    "    'balm': 'melisa',\n",
    "    'banana': 'muz',\n",
    "    'barley': 'arpa',\n",
    "    'bartlett_pear': 'bartlett armudu',\n",
    "    'basil': 'fesleğen',\n",
    "    'bay': 'akdeniz defnesi',\n",
    "    'bean': 'fasulye',\n",
    "    'beech': 'kayın',\n",
    "    'beef': 'sığır eti',\n",
    "    'beef_broth': 'sığır suyu',\n",
    "    'beef_liver': 'sığır ciğeri',\n",
    "    'beer': 'bira',\n",
    "    'beet': 'pancar',\n",
    "    'bell_pepper': 'dolmalık biber',\n",
    "    'bergamot': 'bergamot',\n",
    "    'berry': 'kırmızı orman meyvesi',\n",
    "    'bitter_orange': 'acı portakal',\n",
    "    'black_bean': 'kara fasulye',\n",
    "    'black_currant': 'siyah frenk üzümü',\n",
    "    'black_mustard_seed_oil': 'kara hardal tohumu yağı',\n",
    "    'black_pepper': 'karabiber',\n",
    "    'black_raspberry': 'siyah ahududu',\n",
    "    'black_sesame_seed': 'siyah susam tohumu',\n",
    "    'black_tea': 'siyah çay',\n",
    "    'blackberry': 'böğürtlen',\n",
    "    'blackberry_brandy': 'böğürtlen likörü',\n",
    "    'blue_cheese': 'mavi peynir',\n",
    "    'blueberry': 'yaban mersini',\n",
    "    'bone_oil': 'kemik yağı',\n",
    "    'bourbon_whiskey': 'bourbon viskisi',\n",
    "    'brandy': 'brendi',\n",
    "    'brassica': 'turpgiller',\n",
    "    'bread': 'ekmek',\n",
    "    'broccoli': 'brokoli',\n",
    "    'brown_rice': 'esmer pirinç',\n",
    "    'brussels_sprout': 'brüksel lahanası',\n",
    "    'buckwheat': 'kara buğday',\n",
    "    'butter': 'tereyağı',\n",
    "    'buttermilk': 'yayık ayranı',\n",
    "    'cabbage': 'lahana',\n",
    "    'cabernet_sauvignon_wine': 'cabernet sauvignon şarabı',\n",
    "    'cacao': 'kakao bitkisi',\n",
    "    'camembert_cheese': 'camembert peyniri',\n",
    "    'cane_molasses': 'şeker kamışı pekmezi',\n",
    "    'caraway': 'çemen tohumu',\n",
    "    'cardamom': 'kakule',\n",
    "    'carnation': 'karanfil çiçeği',\n",
    "    'carob': 'keçiboynuzu',\n",
    "    'carrot': 'havuç',\n",
    "    'cashew': 'kaju',\n",
    "    'cassava': 'manyok',\n",
    "    'catfish': 'yayın balığı',\n",
    "    'cauliflower': 'karnabahar',\n",
    "    'caviar': 'havyar',\n",
    "    'cayenne': 'cayenne biberi',\n",
    "    'celery': 'kereviz',\n",
    "    'celery_oil': 'kereviz yağı',\n",
    "    'cereal': 'tahıl',\n",
    "    'chamomile': 'papatya',\n",
    "    'champagne_wine': 'şampanya',\n",
    "    'chayote': 'chayote meyvesi',\n",
    "    'cheddar_cheese': 'cheddar peyniri',\n",
    "    'cheese': 'peynir',\n",
    "    'cherry': 'kiraz',\n",
    "    'cherry_brandy': 'kiraz likörü',\n",
    "    'chervil': 'fransız maydanozu',\n",
    "    'chicken': 'tavuk',\n",
    "    'chicken_broth': 'tavuk suyu',\n",
    "    'chicken_liver': 'tavuk ciğeri',\n",
    "    'chickpea': 'nohut',\n",
    "    'chicory': 'beyaz hindiba',\n",
    "    'chinese_cabbage': 'çin lahanası',\n",
    "    'chive': 'frenk soğanı',\n",
    "    'cider': 'elma şarabı',\n",
    "    'cilantro': 'kişniş otu',\n",
    "    'cinnamon': 'tarçın',\n",
    "    'citrus': 'narenciye',\n",
    "    'citrus_peel': 'narenciye kabuğu',\n",
    "    'clam': 'deniz tarağı',\n",
    "    'clove': 'karanfil',\n",
    "    'cocoa': 'toz kakao',\n",
    "    'coconut': 'hindistan cevizi',\n",
    "    'coconut_oil': 'hindistan cevizi yağı',\n",
    "    'cod': 'morina balığı',\n",
    "    'coffee': 'kahve',\n",
    "    'cognac': 'konyak',\n",
    "    'concord_grape': 'concord üzümü',\n",
    "    'condiment': 'baharat',\n",
    "    'coriander': 'toz kişniş',\n",
    "    'corn': 'mısır',\n",
    "    'corn_flake': 'mısır gevreği',\n",
    "    'corn_grit': 'mısır unu',\n",
    "    'cottage_cheese': 'çökelek',\n",
    "    'crab': 'yengeç',\n",
    "    'cranberry': 'turna yemişi',\n",
    "    'cream': 'krema',\n",
    "    'cream_cheese': 'krem peynir',\n",
    "    'cucumber': 'salatalık',\n",
    "    'cumin': 'kimyon',\n",
    "    'cured_pork': 'işlenmiş domuz eti',\n",
    "    'currant': 'frenk üzümü',\n",
    "    'date': 'hurma',\n",
    "    'dill': 'dereotu',\n",
    "    'durian': 'durian meyvesi',\n",
    "    'eel': 'yılan balığı',\n",
    "    'egg': 'yumurta',\n",
    "    'egg_noodle': 'yumurtalı erişte',\n",
    "    'elderberry': 'mürver',\n",
    "    'emmental_cheese': 'emmental peyniri',\n",
    "    'endive': 'hindiba',\n",
    "    'enokidake': 'enoki mantarı',\n",
    "    'fennel': 'rezene',\n",
    "    'fenugreek': 'çemen',\n",
    "    'feta_cheese': 'beyaz peynir',\n",
    "    'fig': 'incir',\n",
    "    'fish': 'balık',\n",
    "    'flower': 'çiçek',\n",
    "    'frankfurter': 'frankfurter sosis',\n",
    "    'fruit': 'meyve',\n",
    "    'galanga': 'galanga otu',\n",
    "    'gardenia': 'gardenya',\n",
    "    'garlic': 'sarımsak',\n",
    "    'gelatin': 'jelatin',\n",
    "    'geranium': 'sardunya',\n",
    "    'gin': 'cin',\n",
    "    'ginger': 'zencefil',\n",
    "    'goat_cheese': 'keçi peyniri',\n",
    "    'grape': 'üzüm',\n",
    "    'grape_brandy': 'üzüm likörü',\n",
    "    'grape_juice': 'üzüm suyu',\n",
    "    'grapefruit': 'greyfurt',\n",
    "    'green_bell_pepper': 'yeşil dolmalık biber',\n",
    "    'green_tea': 'yeşil çay',\n",
    "    'gruyere_cheese': 'gruyere peyniri',\n",
    "    'guava': 'guava',\n",
    "    'haddock': 'mezgit',\n",
    "    'ham': 'domuz jambonu',\n",
    "    'hazelnut': 'fındık',\n",
    "    'herring': 'ringa balığı',\n",
    "    'holy_basil': 'kutsal fesleğen',\n",
    "    'honey': 'bal',\n",
    "    'hop': 'şerbetçi otu',\n",
    "    'horseradish': 'yaban turpu',\n",
    "    'huckleberry': 'ayı üzümü',\n",
    "    'jamaican_rum': 'jamaika romu',\n",
    "    'japanese_plum': 'japon eriği',\n",
    "    'jasmine': 'yasemin',\n",
    "    'jasmine_tea': 'yasemin çayı',\n",
    "    'juniper_berry': 'ardıç meyvesi',\n",
    "    'kaffir_lime': 'kaffir lime',\n",
    "    'kale': 'kara lahana',\n",
    "    'katsuobushi': 'kurutulmuş balık pulu',\n",
    "    'kelp': 'su yosunu',\n",
    "    'kidney_bean': 'kuru fasulye',\n",
    "    'kiwi': 'kivi',\n",
    "    'kohlrabi': 'alabaş',\n",
    "    'kumquat': 'kumkuat',\n",
    "    'lamb': 'kuzu eti',\n",
    "    'lard': 'domuz yağı',\n",
    "    'laurel': 'defne',\n",
    "    'lavender': 'lavanta',\n",
    "    'leaf': 'yaprak',\n",
    "    'leek': 'pırasa',\n",
    "    'lemon': 'limon',\n",
    "    'lemon_juice': 'limon suyu',\n",
    "    'lemon_peel': 'limon kabuğu',\n",
    "    'lemongrass': 'limon otu',\n",
    "    'lentil': 'mercimek',\n",
    "    'lettuce': 'marul',\n",
    "    'licorice': 'meyan kökü',\n",
    "    'lilac_flower_oil': 'leylak çiçeği yağı',\n",
    "    'lima_bean': 'lima fasulyesi',\n",
    "    'lime': 'misket limonu',\n",
    "    'lime_juice': 'misket limonu suyu',\n",
    "    'lime_peel_oil': 'misket limonu kabuk yağı',\n",
    "    'lingonberry': 'dağ mersini',\n",
    "    'litchi': 'liçi',\n",
    "    'liver': 'ciğer',\n",
    "    'lobster': 'ıstakoz',\n",
    "    'long_pepper': 'uzun biber',\n",
    "    'lovage': 'levzine',\n",
    "    'macadamia_nut': 'makademya fındığı',\n",
    "    'macaroni': 'makarna',\n",
    "    'mace': 'top muskat',\n",
    "    'mackerel': 'uskumru',\n",
    "    'malt': 'malt',\n",
    "    'mandarin': 'bodrum mandalina',\n",
    "    'mandarin_peel': 'mandalina kabuğu',\n",
    "    'mango': 'mango',\n",
    "    'maple_syrup': 'akçaağaç şurubu',\n",
    "    'marjoram': 'mercanköşk',\n",
    "    'mate': 'mate çayı',\n",
    "    'matsutake': 'matsutake mantarı',\n",
    "    'meat': 'et',\n",
    "    'melon': 'kavun',\n",
    "    'milk': 'süt',\n",
    "    'milk_fat': 'süt yağı',\n",
    "    'mint': 'toz nane',\n",
    "    'mozzarella_cheese': 'mozzarella peyniri',\n",
    "    'mung_bean': 'maş fasulyesi',\n",
    "    'munster_cheese': 'munster peyniri',\n",
    "    'muscat_grape': 'muskat üzümü',\n",
    "    'mushroom': 'mantar',\n",
    "    'mussel': 'midye',\n",
    "    'mustard': 'hardal',\n",
    "    'mutton': 'koyun eti',\n",
    "    'nectarine': 'nektarin',\n",
    "    'nira': 'nira bitkisi',\n",
    "    'nut': 'kabuklu yemiş',\n",
    "    'nutmeg': 'muskat',\n",
    "    'oat': 'yulaf',\n",
    "    'oatmeal': 'yulaf ezmesi',\n",
    "    'octopus': 'ahtapot',\n",
    "    'okra': 'bamya',\n",
    "    'olive': 'zeytin',\n",
    "    'olive_oil': 'zeytinyağı',\n",
    "    'onion': 'soğan',\n",
    "    'orange': 'portakal',\n",
    "    'orange_flower': 'portakal çiçeği',\n",
    "    'orange_juice': 'portakal suyu',\n",
    "    'orange_peel': 'portakal kabuğu',\n",
    "    'oregano': 'keklik otu',\n",
    "    'ouzo': 'uzo',\n",
    "    'oyster': 'istiridye',\n",
    "    'palm': 'palmiye',\n",
    "    'papaya': 'papaya',\n",
    "    'parmesan_cheese': 'parmesan peyniri',\n",
    "    'parsley': 'maydanoz',\n",
    "    'parsnip': 'yaban havucu',\n",
    "    'passion_fruit': 'çarkıfelek meyvesi',\n",
    "    'pea': 'bezelye',\n",
    "    'peach': 'şeftali',\n",
    "    'peanut': 'yer fıstığı',\n",
    "    'peanut_butter': 'yer fıstığı ezmesi',\n",
    "    'peanut_oil': 'yer fıstığı yağı',\n",
    "    'pear': 'armut',\n",
    "    'pear_brandy': 'armut likörü',\n",
    "    'pecan': 'pekan cevizi',\n",
    "    'pelargonium': 'itır çiçeği',\n",
    "    'pepper': 'biber',\n",
    "    'peppermint': 'ingiliz nanesi',\n",
    "    'peppermint_oil': 'nane yağı',\n",
    "    'pimenta': 'yenibahar',\n",
    "    'pimento': 'kiraz biberi',\n",
    "    'pineapple': 'ananas',\n",
    "    'pistachio': 'antep fıstığı',\n",
    "    'plum': 'erik',\n",
    "    'popcorn': 'patlamış mısır',\n",
    "    'porcini': 'porçini mantarı',\n",
    "    'pork': 'domuz eti',\n",
    "    'pork_liver': 'domuz ciğeri',\n",
    "    'pork_sausage': 'domuz sucuğu',\n",
    "    'port_wine': 'porto şarabı',\n",
    "    'potato': 'patates',\n",
    "    'potato_chip': 'patates cipsi',\n",
    "    'prawn': 'büyük karides',\n",
    "    'prickly_pear': 'dikenli armut',\n",
    "    'provolone_cheese': 'provolone peyniri',\n",
    "    'pumpkin': 'balkabağı',\n",
    "    'quince': 'ayva',\n",
    "    'radish': 'turp',\n",
    "    'raisin': 'kuru üzüm',\n",
    "    'rapeseed': 'kolza tohumu',\n",
    "    'raspberry': 'ahududu',\n",
    "    'raw_beef': 'çiğ sığır eti',\n",
    "    'red_algae': 'kırmızı yosun',\n",
    "    'red_bean': 'kırmızı fasulye',\n",
    "    'red_kidney_bean': 'kırmızı böbrek fasulyesi',\n",
    "    'red_wine': 'kırmızı şarap',\n",
    "    'rhubarb': 'ışgın',\n",
    "    'rice': 'pirinç',\n",
    "    'roasted_almond': 'kavrulmuş badem',\n",
    "    'roasted_beef': 'kavrulmuş sığır eti',\n",
    "    'roasted_hazelnut': 'kavrulmuş fındık',\n",
    "    'roasted_meat': 'kavrulmuş et',\n",
    "    'roasted_nut': 'kavrulmuş yemiş',\n",
    "    'roasted_peanut': 'kavrulmuş yer fıstığı',\n",
    "    'roasted_pecan': 'kavrulmuş pekan cevizi',\n",
    "    'roasted_pork': 'kavrulmuş domuz eti',\n",
    "    'roasted_sesame_seed': 'kavrulmuş susam tohumu',\n",
    "    'romano_cheese': 'romano peyniri',\n",
    "    'root': 'kök',\n",
    "    'roquefort_cheese': 'roquefort peyniri',\n",
    "    'rose': 'gül',\n",
    "    'rosemary': 'biberiye',\n",
    "    'rum': 'rom',\n",
    "    'rutabaga': 'isveç şalgamı',\n",
    "    'rye_bread': 'çavdar ekmeği',\n",
    "    'rye_flour': 'çavdar unu',\n",
    "    'saffron': 'safran',\n",
    "    'sage': 'adaçayı',\n",
    "    'sake': 'sake',\n",
    "    'salmon': 'somon',\n",
    "    'salmon_roe': 'somon havyarı',\n",
    "    'sassafras': 'sassafras',\n",
    "    'sauerkraut': 'lahana turşusu',\n",
    "    'savory': 'sater',\n",
    "    'scallion': 'yeşil soğan',\n",
    "    'scallop': 'deniz tarağı',\n",
    "    'sea_algae': 'deniz otu',\n",
    "    'seaweed': 'deniz yosunu',\n",
    "    'seed': 'tohum',\n",
    "    'sesame_oil': 'susam yağı',\n",
    "    'sesame_seed': 'susam tohumu',\n",
    "    'shallot': 'arpacık soğanı',\n",
    "    'sheep_cheese': 'koyun peyniri',\n",
    "    'shellfish': 'kabuklu deniz ürünleri',\n",
    "    'sherry': 'şeri',\n",
    "    'shiitake': 'shiitake mantarı',\n",
    "    'shrimp': 'karides',\n",
    "    'smoke': 'duman',\n",
    "    'smoked_fish': 'füme balık',\n",
    "    'smoked_salmon': 'füme somon',\n",
    "    'smoked_sausage': 'füme sosis',\n",
    "    'sour_cherry': 'vişne',\n",
    "    'sour_milk': 'ekşi süt',\n",
    "    'soy_sauce': 'soya sosu',\n",
    "    'soybean': 'soya fasulyesi',\n",
    "    'soybean_oil': 'soya yağı',\n",
    "    'spearmint': 'kıvırcık nane',\n",
    "    'squash': 'sarı kabak',\n",
    "    'squid': 'kalamar',\n",
    "    'star_anise': 'yıldız anasonu',\n",
    "    'starch': 'nişasta',\n",
    "    'strawberry': 'çilek',\n",
    "    'strawberry_jam': 'çilek reçeli',\n",
    "    'strawberry_juice': 'çilek suyu',\n",
    "    'sturgeon_caviar': 'mersin havyarı',\n",
    "    'sumac': 'sumak',\n",
    "    'sunflower_oil': 'ayçiçek yağı',\n",
    "    'sweet_potato': 'tatlı patates',\n",
    "    'swiss_cheese': 'isviçre peyniri',\n",
    "    'tabasco_pepper': 'tabasco biberi',\n",
    "    'tamarind': 'demirhindi',\n",
    "    'tangerine': 'mandalina',\n",
    "    'tarragon': 'tarhun',\n",
    "    'tea': 'çay',\n",
    "    'tequila': 'tekila',\n",
    "    'thai_pepper': 'thai biberi',\n",
    "    'thyme': 'kekik',\n",
    "    'tomato': 'domates',\n",
    "    'tomato_juice': 'domates suyu',\n",
    "    'truffle': 'trüf',\n",
    "    'tuna': 'ton balığı',\n",
    "    'turkey': 'hindi',\n",
    "    'turmeric': 'zerdeçal',\n",
    "    'turnip': 'şalgam',\n",
    "    'vanilla': 'vanilya',\n",
    "    'veal': 'dana eti',\n",
    "    'vegetable': 'sebze',\n",
    "    'vegetable_oil': 'bitkisel yağ',\n",
    "    'vinegar': 'sirke',\n",
    "    'violet': 'menekşe',\n",
    "    'walnut': 'ceviz',\n",
    "    'wasabi': 'wasabi',\n",
    "    'watercress': 'tere',\n",
    "    'watermelon': 'karpuz',\n",
    "    'wheat': 'buğday',\n",
    "    'wheat_bread': 'buğday ekmeği',\n",
    "    'whiskey': 'viski',\n",
    "    'white_bread': 'beyaz ekmek',\n",
    "    'white_wine': 'beyaz şarap',\n",
    "    'whole_grain_wheat_flour': 'tam buğday unu',\n",
    "    'wine': 'şarap',\n",
    "    'wood': 'odun',\n",
    "    'yam': 'yam',\n",
    "    'yeast': 'maya',\n",
    "    'yogurt': 'yoğurt',\n",
    "    'zucchini': 'yeşil kabak'\n",
    "}\n",
    "\n",
    "# Listenin Türkçe karşılıklarla değiştirilmiş hali\n",
    "turkce_malzemeler = [malzemeler_cevirisi.get(item, item) for item in tarifler.columns]\n",
    "print(len(turkce_malzemeler))\n",
    "print(len(list(tarifler.columns)))\n",
    "tarifler.columns = turkce_malzemeler\n",
    "print(list(tarifler.columns))\n",
    "tarifler.head()"
   ]
  },
  {
   "cell_type": "code",
   "execution_count": null,
   "metadata": {},
   "outputs": [],
   "source": [
    "tekrar_edenler = [item for item in set(turkce_malzemeler) if turkce_malzemeler.count(item) > 1]\n",
    "print(tekrar_edenler)"
   ]
  },
  {
   "cell_type": "markdown",
   "metadata": {},
   "source": [
    "50 tariften az tarife sahip olan mutfakları çıkartalım;"
   ]
  },
  {
   "cell_type": "code",
   "execution_count": null,
   "metadata": {},
   "outputs": [],
   "source": [
    "# Verilerini tutacağımız mutfakları listeleyelim\n",
    "tarif_sayisi = tarifler[\"Ülke Mutfağı\"].value_counts()\n",
    "tarif_indisleri = tarif_sayisi > 50\n",
    "\n",
    "secilen_mutfaklar = list(np.array(tarif_sayisi.index.values)[np.array(tarif_indisleri)])\n",
    "\n",
    "onceki_veri = tarifler.shape[0] # orjinal verideki satır sayısı\n",
    "print(\"Orjinal verideki satır sayısı: {}.\".format(onceki_veri))\n",
    "\n",
    "tarifler = tarifler.loc[tarifler['Ülke Mutfağı'].isin(secilen_mutfaklar)]\n",
    "\n",
    "sonraki_veri = tarifler.shape[0] # seçilen mutfaklara ait verideki satır sayısı\n",
    "print(\"Tarif sayısı 50'den çok olan mutfakların sayısı: {}.\".format(sonraki_veri))\n",
    "\n",
    "print(\"{} kayıt silindi!\".format(onceki_veri - sonraki_veri))"
   ]
  },
  {
   "cell_type": "markdown",
   "metadata": {},
   "source": [
    "Verilerde yer alan Yes(Malzeme bu mutfakta var anlamında) ifadesini “1” ile ve No(Malzeme bu mutfakta yok anlamında) ifadesini “0” ile değiştirelim;"
   ]
  },
  {
   "cell_type": "code",
   "execution_count": null,
   "metadata": {},
   "outputs": [],
   "source": [
    "tarifler = tarifler.replace(to_replace=\"Yes\", value=1)\n",
    "tarifler = tarifler.replace(to_replace=\"No\", value=0)"
   ]
  },
  {
   "cell_type": "markdown",
   "metadata": {},
   "source": [
    "Şimdi verileri daha iyi anlamamıza ve ne tür bilgiler edinebileceğimizi anlamamıza yardımcı olacak bazı ek analizlere göz atalım.\n",
    "\n",
    "Örneğin, tarif içinde pirinç(rice), soya sosu(soy), wasabi ve yosun(seaweed) bulunan tarifler hangi mutfaklara ait bulalım;"
   ]
  },
  {
   "cell_type": "code",
   "execution_count": null,
   "metadata": {},
   "outputs": [],
   "source": [
    "bunlar_hangi_mutfakta = tarifler.loc[\n",
    "    (tarifler[\"pirinç\"] == 1) &\n",
    "    (tarifler[\"soya sosu\"] == 1) &\n",
    "    (tarifler[\"wasabi\"] == 1) &\n",
    "    (tarifler[\"deniz yosunu\"] == 1)\n",
    "]\n",
    "\n",
    "bunlar_hangi_mutfakta"
   ]
  },
  {
   "cell_type": "markdown",
   "metadata": {},
   "source": [
    "Yukarıdaki kkodun çıktısına bakarak tarifinde pirinç, soya sosu, wasabi ve yosun bulunan yemeklerin Japon mutfağına ait olduğunu söyleyebilir miyiz?\n",
    "\n",
    "Tabii ki hayır, çünkü sonuçlara göre asya ve doğu asya mutfaklarında da bu malzemeler kullanılıyor.\n",
    "\n",
    "Şimdi farklı bir sorunun cevabını arayalım;\n",
    "\n",
    "Tüm tarifler içinde hangi malzeme kaç kez kullanılmıştır?"
   ]
  },
  {
   "cell_type": "code",
   "execution_count": null,
   "metadata": {},
   "outputs": [],
   "source": [
    "# Tüm sütunların toplamı\n",
    "mlz = tarifler.iloc[:, 1:].sum(axis=0)\n",
    "print(mlz)"
   ]
  },
  {
   "cell_type": "markdown",
   "metadata": {},
   "source": [
    "Biraz daha biçimlendirilmiş olarak görüntüleyelim;"
   ]
  },
  {
   "cell_type": "code",
   "execution_count": null,
   "metadata": {},
   "outputs": [],
   "source": [
    "# sütunları panda serisi olarak tanımlayalım\n",
    "malzeme = pd.Series(mlz.index.values, index = np.arange(len(mlz)))\n",
    "sayim = pd.Series(list(mlz), index = np.arange(len(mlz)))\n",
    "\n",
    "# veri setini oluşturalım\n",
    "mlz_df = pd.DataFrame(dict(malzeme = malzeme, sayim = sayim))\n",
    "mlz_df = mlz_df[[\"malzeme\", \"sayim\"]]\n",
    "print(mlz_df.to_string())"
   ]
  },
  {
   "cell_type": "markdown",
   "metadata": {},
   "source": [
    "Artık dilersek bu veri setini istediğimiz şekilde sıralayabiliriz. Örneğin tüm tarifler içinde en çok kullanılan malzemelerin neler olduğunu merak ediyorsak;"
   ]
  },
  {
   "cell_type": "code",
   "execution_count": null,
   "metadata": {},
   "outputs": [],
   "source": [
    "mlz_df.sort_values([\"sayim\"], ascending=False, inplace=True)\n",
    "mlz_df.reset_index(inplace=True, drop=True)\n",
    "\n",
    "print(mlz_df)"
   ]
  },
  {
   "cell_type": "markdown",
   "metadata": {},
   "source": [
    "Tabii burada elde ettiğimiz sonuçlar bir miktar yanlılığa sahiptir. Çünkü yukarıdaki tablolardan hatırlayacağınız gibi tarifler arasında 40.000’in üzerinde Amerikan mutfağına ait tarif mevcut. Bu da cevap aradığımız soruların Amerikan mutfağından aşırı miktarda etkilenen cevaplar olduğunu gösterir. Bu yüzden daha objektif bir sonuç için ülke mutfağına göre bu sonucu üretebiliriz. Diğer bir deyişle şu soruların cevabını arayabiliriz; “Çinliler hangi malzemeleri daha çok kullanıyor?” ya da “Kanadalılar için en önemli malzemeler nelerdir?“ gibi;"
   ]
  },
  {
   "cell_type": "code",
   "execution_count": null,
   "metadata": {},
   "outputs": [],
   "source": [
    "mutfaklar = tarifler.groupby(\"Ülke Mutfağı\").mean()\n",
    "mutfaklar.head()"
   ]
  },
  {
   "cell_type": "markdown",
   "metadata": {},
   "source": [
    "Hadi şimdi ülke mutfaklarına göre en çok kullanılan 4 malzemeyi görelim;"
   ]
  },
  {
   "cell_type": "code",
   "execution_count": null,
   "metadata": {},
   "outputs": [],
   "source": [
    "mlz_sayisi = 4 # çıktıya yazdırılacak malzeme sayısını belirleyelim\n",
    "\n",
    "# her mutfağa göre en çok kullanılan malzemeleri yazdıracak fonksiyon\n",
    "def en_cok_kullanilan_malzemeler(row):\n",
    "    print(row.name.upper())\n",
    "    sirali_satirlar = row.sort_values(ascending=False)*100\n",
    "    cok_kullanilanlar = list(sirali_satirlar.index.values)[0:mlz_sayisi]\n",
    "    siralanmis = list(sirali_satirlar)[0:mlz_sayisi]\n",
    "\n",
    "    for indis, malzemeler in enumerate(cok_kullanilanlar):\n",
    "        print(\"%s (%d%%)\" % (malzemeler, siralanmis[indis]), end=' ')\n",
    "    print(\"\\n\")\n",
    "\n",
    "# fonksiyonu veri setimiz üzerinde çalıştıralım\n",
    "create_cuisines_profiles = mutfaklar.apply(en_cok_kullanilan_malzemeler, axis=1)"
   ]
  },
  {
   "cell_type": "markdown",
   "metadata": {},
   "source": [
    "## Modelleme\n",
    "\n",
    "Veri Modelleme, hem tanımlayıcı hem de tahmine dayalı modeller geliştirmeye odaklanır. \n",
    "\n",
    "Tanımlayıcı bir model, şu tür örnekleri inceleyebilir: Eğer bir kişi bunu yaptıysa, muhtemelen bunu tercih edecektir. Tahmine dayalı bir model ise, evet/hayır gibi ikili(binary) sonuçlar vermeye çalışır. Bu modeller, istatistiksel olarak yönlendirilen veya makine öğrenimi tarafından yönlendirilen analitik yaklaşıma dayanmaktadır.\n"
   ]
  },
  {
   "cell_type": "code",
   "execution_count": null,
   "metadata": {},
   "outputs": [],
   "source": [
    "# Karar ağacı modellemesi için scikit-learn kütüphanesini ekleyelim \n",
    "%matplotlib inline\n",
    "from sklearn import tree\n",
    "from sklearn.metrics import accuracy_score, confusion_matrix\n",
    "\n",
    "import matplotlib.pyplot as plt\n",
    "\n",
    "!conda install python-graphviz --yes\n",
    "import graphviz\n",
    "\n",
    "from sklearn.tree import export_graphviz\n",
    "\n",
    "import itertools"
   ]
  },
  {
   "cell_type": "markdown",
   "metadata": {},
   "source": [
    "Veriyi tekrar gözden geçirelim;"
   ]
  },
  {
   "cell_type": "code",
   "execution_count": null,
   "metadata": {},
   "outputs": [],
   "source": [
    "tarifler.head"
   ]
  },
  {
   "cell_type": "markdown",
   "metadata": {},
   "source": [
    "Burada, Asya (Kore, Japon, Çin, Tayland) ve Hint mutfaklarından sadece bazılarına ait tarifler için bir karar ağacı oluşturuyoruz. Bunu yapmamızın nedeni, verilerin bir mutfağa veya daha önce bahsettiğimiz gibi Amerikan mutfağından çok sayıda tarif içermesi nedeniyle bir grup mutfağa karşı ağırlıklı olması durumunda karar ağacının iyi çalışmamasıdır. Amerikan mutfaklarını analizimizin dışında tutabilir veya verilerin farklı alt kümeleri için karar ağaçları oluşturabiliriz. Biz çalışmamız için ikinci çözümü tercih edelim. Asya ve Hint mutfaklarına ilişkin verileri kullanarak karar ağacımızı oluşturalım ve karar ağacımıza dogu_agaci adını verelim."
   ]
  },
  {
   "cell_type": "code",
   "execution_count": null,
   "metadata": {},
   "outputs": [],
   "source": [
    "# Ülke mutfaklarına ait alt mutfakları seçelim\n",
    "asya_hint_mutfaklari = tarifler[tarifler['Ülke Mutfağı'].isin([\"Kore Mutfağı\", \"Japon Mutfağı\", \"Çin Mutfağı\", \"Tayland Mutfağı\", \"Hint Mutfağı\"])]\n",
    "mutfaklar = asya_hint_mutfaklari[\"Ülke Mutfağı\"]\n",
    "malzemeler = asya_hint_mutfaklari.iloc[:,1:]\n",
    "\n",
    "dogu_agaci = tree.DecisionTreeClassifier(max_depth=3)\n",
    "dogu_agaci.fit(malzemeler, mutfaklar)\n",
    "\n",
    "print(\"Karar ağacı modeli dogu_agaci adıyla kaydedildi!\")"
   ]
  },
  {
   "cell_type": "markdown",
   "metadata": {},
   "source": [
    "Şimdi de karar ağacının grafiğini çizelim ve nasıl göründüğüne göz atalım;"
   ]
  },
  {
   "cell_type": "code",
   "execution_count": null,
   "metadata": {},
   "outputs": [],
   "source": [
    "export_graphviz(dogu_agaci,\n",
    "                feature_names=list(malzemeler.columns.values),\n",
    "                out_file=\"dogu_agaci.dot\",\n",
    "                class_names=np.unique(mutfaklar),\n",
    "                filled=True,\n",
    "                node_ids=True,\n",
    "                special_characters=True,\n",
    "                impurity=False,\n",
    "                label=\"all\",\n",
    "                leaves_parallel=False)\n",
    "\n",
    "with open(\"dogu_agaci.dot\") as dogu_agaci_resmi:\n",
    "    dogu_agaci_grafigi = dogu_agaci_resmi.read()\n",
    "graphviz.Source(dogu_agaci_grafigi)"
   ]
  },
  {
   "cell_type": "markdown",
   "metadata": {},
   "source": [
    "Bu karar ağacını şu şekilde yorumlayabiliriz;\n",
    "\n",
    "Eğer tarif kimyon ve kavrulmuş susam tohumu içeriyorsa, nişasta içermiyorsa, bir Çin Mutfağı tarifidir.\n",
    "\n",
    "Eğer tarif kimyon içermiyor, balık ve soya sosu içeriyorsa bir Hint Mutfağı tarifidir.\n",
    "\n",
    "Burada yorumlamayı nasıl yapacağınza dair örnekler yazdım ama kodu her çalıştrdığınızda farklı sonuçlar üretebilir."
   ]
  },
  {
   "cell_type": "markdown",
   "metadata": {},
   "source": [
    "\n",
    "## Model Değerlendirme\n",
    "\n",
    "Yukarıda kullandığımız Asya-Hint Mutfağı modelimizi değerlendirmek için, veri setini eğitim seti ve test seti olarak bölmeliyiz. Sonra eğitim setini kullanarak karar ağacını kuracağız. Ardından, modeli test seti üzerinde test edecek ve modelin tahmin ettiği mutfakları gerçek mutfaklarla karşılaştıracağız.\n",
    "\n",
    "Bu çalışmada daha önce tanımladığımız Asya ve Hint mutfakları ile ilgili verilerden oluşan veri çerçevesini(dataframe) kullanacağız. Bu seçtiğimiz mutfaklarda kaç tarif olduğuna göz atalım;\n"
   ]
  },
  {
   "cell_type": "code",
   "execution_count": null,
   "metadata": {},
   "outputs": [],
   "source": [
    "asya_hint_mutfaklari[\"Ülke Mutfağı\"].value_counts()"
   ]
  },
  {
   "cell_type": "markdown",
   "metadata": {},
   "source": [
    "Her mutfağa ait tarifler içinden rastgele 30 tarifi test seti olarak çıkartalım ve dogu_test olarak adlandıralım.\n",
    "\n",
    "Bu aşamada rasgele sayı üreterek kullanmamız gerekecek. Bunun için gerekli kütüphaneyi de ekleyelim:"
   ]
  },
  {
   "cell_type": "code",
   "execution_count": null,
   "metadata": {},
   "outputs": [],
   "source": [
    "import random\n",
    "# Veri boyutunu belirleyelim\n",
    "sample_n = 30\n",
    "\n",
    "# Her mutfaktan 30 tarif alalım\n",
    "random.seed(1234) # rastgele sayı üretelim\n",
    "dogu_test = asya_hint_mutfaklari.groupby(\"Ülke Mutfağı\", group_keys=False).apply(lambda x: x.sample(sample_n))\n",
    "\n",
    "dogu_test_malzemeler = dogu_test.iloc[:,1:] # malzemeler\n",
    "dogu_test_mutfaklar = dogu_test[\"Ülke Mutfağı\"] # karşılık gelen mutfaklar"
   ]
  },
  {
   "cell_type": "markdown",
   "metadata": {},
   "source": [
    "Şimdi kodumuzu bir kontrol edelim ve her mutfakta 30 tarif olduğunu görelim;"
   ]
  },
  {
   "cell_type": "code",
   "execution_count": null,
   "metadata": {},
   "outputs": [],
   "source": [
    "# her mutfakta 30 tarif olduğunu görelim\n",
    "dogu_test[\"Ülke Mutfağı\"].value_counts()"
   ]
  },
  {
   "cell_type": "markdown",
   "metadata": {},
   "source": [
    "Şimdi de eğitim setimizi oluşturalım. bunun için dogu veri setimiz içinden test verisi olarak ayırdığımız 30 tarifi çıkartıyoruz ve dogu_egitim olarak isimlendiriyoruz."
   ]
  },
  {
   "cell_type": "code",
   "execution_count": 80,
   "metadata": {},
   "outputs": [],
   "source": [
    "dogu_test_index = asya_hint_mutfaklari.index.isin(dogu_test.index)\n",
    "dogu_egitim = asya_hint_mutfaklari[~dogu_test_index]\n",
    "\n",
    "dogu_egitim_malzemeler = dogu_egitim.iloc[:,1:] # malzemeler\n",
    "dogu_egitim_mutfaklar = dogu_egitim[\"Ülke Mutfağı\"] # karşılık gelen mutfaklar"
   ]
  },
  {
   "cell_type": "markdown",
   "metadata": {},
   "source": [
    "Şimdi yapacağımız kontrolde eğitim veri setimizin tarif sayılarının önceki dogu veri setimizden 30 eksik olduğunu görmeliyiz;"
   ]
  },
  {
   "cell_type": "code",
   "execution_count": null,
   "metadata": {},
   "outputs": [],
   "source": [
    "dogu_egitim[\"Ülke Mutfağı\"].value_counts()"
   ]
  },
  {
   "cell_type": "markdown",
   "metadata": {},
   "source": [
    "Bu adımda, eğitim setimizi kullanarak karar ağacı oluşturacağız. Bu yeni karar ağacını da dogu_egitim_agaci olarak isimlendirelim;"
   ]
  },
  {
   "cell_type": "code",
   "execution_count": null,
   "metadata": {},
   "outputs": [],
   "source": [
    "dogu_egitim_agaci = tree.DecisionTreeClassifier(max_depth=15)\n",
    "dogu_egitim_agaci.fit(dogu_egitim_malzemeler, dogu_egitim_mutfaklar)\n",
    "\n",
    "print(\"dogu_egitim_agaci isimli karar ağacı modeliniz oluşturulmuştur!\")"
   ]
  },
  {
   "cell_type": "markdown",
   "metadata": {},
   "source": [
    "Şimdi bu karar ağacına göz atalım;"
   ]
  },
  {
   "cell_type": "code",
   "execution_count": null,
   "metadata": {},
   "outputs": [],
   "source": [
    "export_graphviz(dogu_egitim_agaci,\n",
    "                feature_names=list(dogu_egitim_malzemeler.columns.values),\n",
    "                out_file=\"dogu_egitim_agaci.dot\",\n",
    "                class_names=np.unique(dogu_egitim_mutfaklar),\n",
    "                filled=True,\n",
    "                node_ids=True,\n",
    "                special_characters=True,\n",
    "                impurity=False,\n",
    "                label=\"all\",\n",
    "                leaves_parallel=False)\n",
    "\n",
    "with open(\"dogu_egitim_agaci.dot\") as dogu_egitim_agaci_resmi:\n",
    "    dogu_egitim_agaci_grafigi = dogu_egitim_agaci_resmi.read()\n",
    "graphviz.Source(dogu_egitim_agaci_grafigi)"
   ]
  },
  {
   "cell_type": "markdown",
   "metadata": {},
   "source": [
    "Şimdi modelimizi test verisi ile test edelim;"
   ]
  },
  {
   "cell_type": "code",
   "execution_count": 85,
   "metadata": {},
   "outputs": [],
   "source": [
    "dogu_mutfaklar_tahmini = dogu_egitim_agaci.predict(dogu_test_malzemeler)"
   ]
  },
  {
   "cell_type": "markdown",
   "metadata": {},
   "source": [
    "Karar ağacının her bir tarifin mutfağını ne kadar doğru belirleyebildiğini ölçmek için, her bir mutfaktan kaç tarifin doğru sınıflandırıldığına dair güzel bir özet sunan bir Karışıklık Matrisi(Confusion Matrix) oluşturacağız. Bu matris ayrıca hangi mutfakların başka hangi mutfaklarla karıştırıldığına da ışık tutuyor."
   ]
  },
  {
   "cell_type": "code",
   "execution_count": null,
   "metadata": {},
   "outputs": [],
   "source": [
    "test_mutfaklari = np.unique(dogu_test_mutfaklar)\n",
    "dogu_karisiklik_matrisi = confusion_matrix(dogu_test_mutfaklar, dogu_mutfaklar_tahmini, labels = test_mutfaklari)\n",
    "title = 'Doğu Mutfakları Karışıklık Matrisi(Confusion Matrix)'\n",
    "cmap = plt.cm.Blues\n",
    "\n",
    "plt.figure(figsize=(8, 6))\n",
    "dogu_karisiklik_matrisi = (\n",
    "    dogu_karisiklik_matrisi.astype('float') / dogu_karisiklik_matrisi.sum(axis=1)[:, np.newaxis]\n",
    "    ) * 100\n",
    "\n",
    "plt.imshow(dogu_karisiklik_matrisi, interpolation='nearest', cmap=cmap)\n",
    "plt.title(title)\n",
    "plt.colorbar()\n",
    "tick_marks = np.arange(len(test_mutfaklari))\n",
    "plt.xticks(tick_marks, test_mutfaklari)\n",
    "plt.yticks(tick_marks, test_mutfaklari)\n",
    "\n",
    "fmt = '.2f'\n",
    "thresh = dogu_karisiklik_matrisi.max() / 2.\n",
    "for i, j in itertools.product(range(dogu_karisiklik_matrisi.shape[0]), range(dogu_karisiklik_matrisi.shape[1])):\n",
    "    plt.text(j, i, format(dogu_karisiklik_matrisi[i, j], fmt),\n",
    "             horizontalalignment=\"center\",\n",
    "             color=\"white\" if dogu_karisiklik_matrisi[i, j] > thresh else \"black\")\n",
    "\n",
    "plt.tight_layout()\n",
    "plt.ylabel('Doğru Etiketler')\n",
    "plt.xlabel('Tahmini Etiketler')\n",
    "\n",
    "plt.show()"
   ]
  },
  {
   "cell_type": "markdown",
   "metadata": {},
   "source": [
    "Satırlar veri kümesindeki gerçek mutfakları, sütunlar ise tahmin edilen mutfakları temsil eder. Her satırın toplamı %100 olmalıdır. Bu karışıklık matrisine göre aşağıdaki gözlemleri yapabiliriz:\n",
    "\n",
    "- Karışıklık matrisindeki ilk satıra göz attığımızda görüyoruz ki, dogu_test verisi içindeki Çince tariflerin %60’ı karar ağacımız tarafından doğru sınıflandırılırken, Çince tariflerin %37’si Kore ve %3’ü Hint Mutfağı olarak yanlış sınıflandırılmıştır.\n",
    "- Hint satırına göz attığımızda ise, dogu_test verisi içindeki Hint tariflerinin %77’si karar ağacımız tarafından doğru sınıflandırılmış, ancak Hint tariflerinin %3’ü Çin, %13’ü Kore ve %7’si Tayland olarak yanlış sınıflandırılmıştır."
   ]
  }
 ],
 "metadata": {
  "kernelspec": {
   "display_name": "Python 3",
   "language": "python",
   "name": "python3"
  },
  "language_info": {
   "codemirror_mode": {
    "name": "ipython",
    "version": 3
   },
   "file_extension": ".py",
   "mimetype": "text/x-python",
   "name": "python",
   "nbconvert_exporter": "python",
   "pygments_lexer": "ipython3",
   "version": "3.11.5"
  }
 },
 "nbformat": 4,
 "nbformat_minor": 2
}
